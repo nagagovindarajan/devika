{
 "cells": [
  {
   "cell_type": "code",
   "execution_count": 3,
   "metadata": {},
   "outputs": [
    {
     "name": "stderr",
     "output_type": "stream",
     "text": [
      "24.04.07 16:46:08: root: ERROR  : SOCKET tokens ERROR: 'NoneType' object has no attribute 'emit'\n"
     ]
    },
    {
     "name": "stdout",
     "output_type": "stream",
     "text": [
      "Model: mistral:latest, Enum: OLLAMA"
     ]
    },
    {
     "name": "stdout",
     "output_type": "stream",
     "text": [
      "\n"
     ]
    },
    {
     "name": "stderr",
     "output_type": "stream",
     "text": [
      "24.04.07 16:46:16: root: ERROR  : SOCKET tokens ERROR: 'NoneType' object has no attribute 'emit'\n"
     ]
    },
    {
     "name": "stdout",
     "output_type": "stream",
     "text": [
      "Here is a simple Python function that converts a temperature from Celsius to Fahrenheit:\n",
      "\n",
      "```python\n",
      "def celsius_to_fahrenheit(celsius):\n",
      "    \"\"\"\n",
      "    This function will convert a given temperature in Celsius to Fahrenheit.\n",
      "    \n",
      "    Parameters:\n",
      "    celsius (float): temperature in Celsius\n",
      "\n",
      "    Returns:\n",
      "    float: temperature in Fahrenheit\n",
      "    \"\"\"\n",
      "\n",
      "    fahrenheit = (celsius * 9 / 5) + 32\n",
      "\n",
      "    return fahrenheit\n",
      "```\n",
      "\n",
      "To use the function, you simply call it and pass a value as an argument:\n",
      "\n",
      "```python\n",
      ">>> celsius_to_fahrenheit(20.0)\n",
      "68.0\n",
      "```\n",
      "In this example, the temperature `20.0` degrees Celsius is converted to `68.0` degrees Fahrenheit.\n"
     ]
    }
   ],
   "source": [
    "from src.llm import LLM\n",
    "llm = LLM(model_id=\"mistral:latest\")     \n",
    "response = llm.inference(\"Write a Python function that, given a temperature in Celsius, converts it into the equivalent temperature in fahrenheit\", \"tem-cov\")\n",
    "print(response)"
   ]
  },
  {
   "cell_type": "code",
   "execution_count": 1,
   "metadata": {},
   "outputs": [
    {
     "name": "stderr",
     "output_type": "stream",
     "text": [
      "/Users/nagagovindar@sphnet.com.sg/Documents/my_projects/devika/.venv/lib/python3.12/site-packages/tqdm/auto.py:21: TqdmWarning: IProgress not found. Please update jupyter and ipywidgets. See https://ipywidgets.readthedocs.io/en/stable/user_install.html\n",
      "  from .autonotebook import tqdm as notebook_tqdm\n"
     ]
    },
    {
     "name": "stdout",
     "output_type": "stream",
     "text": [
      "24.04.22 16:43:19: root: INFO   : Ollama available\n",
      "~~~\n",
      "File: `acronym_generator.py`:\n",
      "```python\n",
      "def generate_acronym(words):\n",
      "    \"\"\"\n",
      "    Returns an acronym generated from given words.\n",
      "\n",
      "    :param words: list of words to be made into an acronym\n",
      "    :return: str, the acronym generated from the given words\n",
      "    \"\"\"\n",
      "    return '.'.join([word[0].upper() for word in words])\n",
      "\n",
      "if __name__ == \"__main__\":\n",
      "    words = input(\"Enter a list of words separated by spaces: \").split()\n",
      "    acronym = generate_acronym(words)\n",
      "    print(f\"The acronym for '{', '.join(words)}' is '{acronym}'.\")\n",
      "~~~\n",
      "File: `requirements.txt`:\n",
      "```txt\n",
      "```\n",
      "\n",
      "File: `README.md`:\n",
      "```md\n",
      "# Acronym Generator\n",
      "\n",
      "This simple Python application accepts user input as a list of words and returns their corresponding acronyms.\n",
      "\n",
      "## Usage\n",
      "\n",
      "Run the script in your terminal or command prompt, enter a list of words separated by spaces, and the script will output the generated acronym.\n",
      "\n",
      "```bash\n",
      "$ python acronym_generator.py \"NASA Space Center\"\n",
      "```\n",
      "\n",
      "Output:\n",
      "```\n",
      "NASA Space Center -> N S C\n",
      "```\n",
      "~~~\n"
     ]
    }
   ],
   "source": [
    "from src.agents.feature import Feature\n",
    "\n",
    "# Open the file in read mode\n",
    "with open('content.txt', 'r') as file:\n",
    "    # Read the entire content of the file into a string\n",
    "    file_content = file.read()\n",
    "\n",
    "# Now, file_content contains the content of the file as a string\n",
    "print(file_content)\n"
   ]
  },
  {
   "cell_type": "code",
   "execution_count": 4,
   "metadata": {},
   "outputs": [
    {
     "name": "stdout",
     "output_type": "stream",
     "text": [
      "[{'file': 'acronym_generator.py', 'code': 'def generate_acronym(words):\\n    \"\"\"\\n    Returns an acronym generated from given words.\\n\\n    :param words: list of words to be made into an acronym\\n    :return: str, the acronym generated from the given words\\n    \"\"\"\\n    return \\'.\\'.join([word[0].upper() for word in words])\\n\\nif __name__ == \"__main__\":\\n    words = input(\"Enter a list of words separated by spaces: \").split()\\n    acronym = generate_acronym(words)\\n    print(f\"The acronym for \\'{\\', \\'.join(words)}\\' is \\'{acronym}\\'.\")\\n~~~'}, {'file': 'requirements.txt', 'code': ''}, {'file': 'README.md', 'code': '# Acronym Generator\\n\\nThis simple Python application accepts user input as a list of words and returns their corresponding acronyms.\\n\\n## Usage\\n\\nRun the script in your terminal or command prompt, enter a list of words separated by spaces, and the script will output the generated acronym.\\n\\n$ python acronym_generator.py \"NASA Space Center\"\\n\\nOutput:\\nNASA Space Center -> N S C'}]\n"
     ]
    }
   ],
   "source": [
    "print(Feature.validate_response(file_content))"
   ]
  }
 ],
 "metadata": {
  "kernelspec": {
   "display_name": ".venv",
   "language": "python",
   "name": "python3"
  },
  "language_info": {
   "codemirror_mode": {
    "name": "ipython",
    "version": 3
   },
   "file_extension": ".py",
   "mimetype": "text/x-python",
   "name": "python",
   "nbconvert_exporter": "python",
   "pygments_lexer": "ipython3",
   "version": "3.12.2"
  }
 },
 "nbformat": 4,
 "nbformat_minor": 2
}
