{
 "cells": [
  {
   "cell_type": "code",
   "execution_count": 6,
   "metadata": {},
   "outputs": [
    {
     "name": "stderr",
     "output_type": "stream",
     "text": [
      "/Users/nagagovindar@sphnet.com.sg/Documents/my_projects/devika/.venv/lib/python3.12/site-packages/tqdm/auto.py:21: TqdmWarning: IProgress not found. Please update jupyter and ipywidgets. See https://ipywidgets.readthedocs.io/en/stable/user_install.html\n",
      "  from .autonotebook import tqdm as notebook_tqdm\n"
     ]
    },
    {
     "name": "stdout",
     "output_type": "stream",
     "text": [
      "24.05.09 16:52:20: root: INFO   : Ollama available\n"
     ]
    },
    {
     "ename": "TypeError",
     "evalue": "LLM.inference() missing 1 required positional argument: 'agent_name'",
     "output_type": "error",
     "traceback": [
      "\u001b[0;31m---------------------------------------------------------------------------\u001b[0m",
      "\u001b[0;31mTypeError\u001b[0m                                 Traceback (most recent call last)",
      "Cell \u001b[0;32mIn[6], line 3\u001b[0m\n\u001b[1;32m      1\u001b[0m \u001b[38;5;28;01mfrom\u001b[39;00m \u001b[38;5;21;01msrc\u001b[39;00m\u001b[38;5;21;01m.\u001b[39;00m\u001b[38;5;21;01mllm\u001b[39;00m \u001b[38;5;28;01mimport\u001b[39;00m LLM\n\u001b[1;32m      2\u001b[0m llm \u001b[38;5;241m=\u001b[39m LLM(model_id\u001b[38;5;241m=\u001b[39m\u001b[38;5;124m\"\u001b[39m\u001b[38;5;124mmistral:latest\u001b[39m\u001b[38;5;124m\"\u001b[39m)     \n\u001b[0;32m----> 3\u001b[0m response \u001b[38;5;241m=\u001b[39m \u001b[43mllm\u001b[49m\u001b[38;5;241;43m.\u001b[39;49m\u001b[43minference\u001b[49m\u001b[43m(\u001b[49m\u001b[38;5;124;43m\"\u001b[39;49m\u001b[38;5;124;43mWrite a Python function that, given a temperature in Celsius, converts it into the equivalent temperature in fahrenheit\u001b[39;49m\u001b[38;5;124;43m\"\u001b[39;49m\u001b[43m,\u001b[49m\u001b[43m \u001b[49m\u001b[38;5;124;43m\"\u001b[39;49m\u001b[38;5;124;43mtem-cov\u001b[39;49m\u001b[38;5;124;43m\"\u001b[39;49m\u001b[43m)\u001b[49m\n\u001b[1;32m      4\u001b[0m \u001b[38;5;28mprint\u001b[39m(response)\n",
      "\u001b[0;31mTypeError\u001b[0m: LLM.inference() missing 1 required positional argument: 'agent_name'"
     ]
    }
   ],
   "source": [
    "from src.llm import LLM\n",
    "llm = LLM(model_id=\"mistral:latest\")     \n",
    "response = llm.inference(\"Write a Python function that, given a temperature in Celsius, converts it into the equivalent temperature in fahrenheit\", \"tem-cov\")\n",
    "print(response)"
   ]
  },
  {
   "cell_type": "code",
   "execution_count": 1,
   "metadata": {},
   "outputs": [
    {
     "name": "stdout",
     "output_type": "stream",
     "text": [
      "\u001b[0m\u001b[0m\n",
      "\u001b[31m\u001b[31m╷\u001b[0m\u001b[0m\n",
      "\u001b[31m│\u001b[0m \u001b[0m\u001b[1m\u001b[31mError: \u001b[0m\u001b[0m\u001b[1mDuplicate provider configuration\u001b[0m\n",
      "\u001b[31m│\u001b[0m \u001b[0m\n",
      "\u001b[31m│\u001b[0m \u001b[0m\u001b[0m  on outputs.tf line 1:\n",
      "\u001b[31m│\u001b[0m \u001b[0m   1: \u001b[4mprovider \"aws\"\u001b[0m {\u001b[0m\n",
      "\u001b[31m│\u001b[0m \u001b[0m\n",
      "\u001b[31m│\u001b[0m \u001b[0mA default (non-aliased) provider configuration for \"aws\" was already given\n",
      "\u001b[31m│\u001b[0m \u001b[0mat main.tf:1,1-15. If multiple configurations are required, set the \"alias\"\n",
      "\u001b[31m│\u001b[0m \u001b[0margument for alternative configurations.\n",
      "\u001b[31m╵\u001b[0m\u001b[0m\n",
      "\u001b[0m\u001b[0m\n",
      "\u001b[31m\u001b[31m╷\u001b[0m\u001b[0m\n",
      "\u001b[31m│\u001b[0m \u001b[0m\u001b[1m\u001b[31mError: \u001b[0m\u001b[0m\u001b[1mDuplicate provider configuration\u001b[0m\n",
      "\u001b[31m│\u001b[0m \u001b[0m\n",
      "\u001b[31m│\u001b[0m \u001b[0m\u001b[0m  on outputs.tf line 1:\n",
      "\u001b[31m│\u001b[0m \u001b[0m   1: \u001b[4mprovider \"aws\"\u001b[0m {\u001b[0m\n",
      "\u001b[31m│\u001b[0m \u001b[0m\n",
      "\u001b[31m│\u001b[0m \u001b[0mA default (non-aliased) provider configuration for \"aws\" was already given\n",
      "\u001b[31m│\u001b[0m \u001b[0mat main.tf:1,1-15. If multiple configurations are required, set the \"alias\"\n",
      "\u001b[31m│\u001b[0m \u001b[0margument for alternative configurations.\n",
      "\u001b[31m╵\u001b[0m\u001b[0m\n",
      "\u001b[0m\u001b[0m\n"
     ]
    }
   ],
   "source": [
    "\n",
    "# Open the file in read mode\n",
    "with open('content.txt', 'r') as file:\n",
    "    # Read the entire content of the file into a string\n",
    "    file_content = file.read()\n",
    "\n",
    "# Now, file_content contains the content of the file as a string\n",
    "print(file_content)\n"
   ]
  },
  {
   "cell_type": "code",
   "execution_count": 4,
   "metadata": {},
   "outputs": [
    {
     "name": "stdout",
     "output_type": "stream",
     "text": [
      "[{'file': 'acronym_generator.py', 'code': 'def generate_acronym(words):\\n    \"\"\"\\n    Returns an acronym generated from given words.\\n\\n    :param words: list of words to be made into an acronym\\n    :return: str, the acronym generated from the given words\\n    \"\"\"\\n    return \\'.\\'.join([word[0].upper() for word in words])\\n\\nif __name__ == \"__main__\":\\n    words = input(\"Enter a list of words separated by spaces: \").split()\\n    acronym = generate_acronym(words)\\n    print(f\"The acronym for \\'{\\', \\'.join(words)}\\' is \\'{acronym}\\'.\")\\n~~~'}, {'file': 'requirements.txt', 'code': ''}, {'file': 'README.md', 'code': '# Acronym Generator\\n\\nThis simple Python application accepts user input as a list of words and returns their corresponding acronyms.\\n\\n## Usage\\n\\nRun the script in your terminal or command prompt, enter a list of words separated by spaces, and the script will output the generated acronym.\\n\\n$ python acronym_generator.py \"NASA Space Center\"\\n\\nOutput:\\nNASA Space Center -> N S C'}]\n"
     ]
    }
   ],
   "source": [
    "from src.agents.feature import Feature\n",
    "print(Feature.validate_response(file_content))"
   ]
  },
  {
   "cell_type": "code",
   "execution_count": 2,
   "metadata": {},
   "outputs": [
    {
     "name": "stderr",
     "output_type": "stream",
     "text": [
      "/Users/nagagovindar@sphnet.com.sg/Documents/my_projects/devika/.venv/lib/python3.12/site-packages/tqdm/auto.py:21: TqdmWarning: IProgress not found. Please update jupyter and ipywidgets. See https://ipywidgets.readthedocs.io/en/stable/user_install.html\n",
      "  from .autonotebook import tqdm as notebook_tqdm\n"
     ]
    },
    {
     "name": "stdout",
     "output_type": "stream",
     "text": [
      "24.04.26 18:31:32: root: INFO   : Ollama available\n",
      "{'queries': ['project execution best practices', 'identifying project dependencies'], 'ask_user': ''}\n"
     ]
    }
   ],
   "source": [
    "from src.agents.researcher import Researcher\n",
    "\n",
    "print(Researcher.validate_response(file_content))"
   ]
  },
  {
   "cell_type": "code",
   "execution_count": 1,
   "metadata": {},
   "outputs": [
    {
     "name": "stderr",
     "output_type": "stream",
     "text": [
      "/Users/nagagovindar@sphnet.com.sg/Documents/my_projects/devika/.venv/lib/python3.12/site-packages/tqdm/auto.py:21: TqdmWarning: IProgress not found. Please update jupyter and ipywidgets. See https://ipywidgets.readthedocs.io/en/stable/user_install.html\n",
      "  from .autonotebook import tqdm as notebook_tqdm\n"
     ]
    },
    {
     "name": "stdout",
     "output_type": "stream",
     "text": [
      "24.05.08 14:59:39: root: INFO   : Ollama available\n",
      "╷\n",
      "│ Error: Reference to undeclared resource\n",
      "│ \n",
      "│   on main.tf line 17, in resource \"aws_alb\" \"example\":\n",
      "│   17:   security_groups = [aws_security_group.example.id]\n",
      "│ \n",
      "│ A managed resource \"aws_security_group\" \"example\" has not been declared in\n",
      "│ the root module.\n",
      "╵\n",
      "\n",
      "1\n"
     ]
    }
   ],
   "source": [
    "from src.agents.ops import Ops\n",
    "\n",
    "process = Ops.exec_command(\"terraform validate\", \"/Users/nagagovindar@sphnet.com.sg/Documents/my_projects/devika/data/projects/terra-test3\")\n",
    "command_output = process.stderr.decode('utf-8')\n",
    "returncode = process.returncode\n",
    "print(command_output)\n",
    "print(returncode)\n",
    "# print(Ops.exec_command(\"aws s3 ls\", \"/Users/nagagovindar@sphnet.com.sg/Documents/my_projects/devika/data/projects/acronyms2\"))\n",
    "# process = Ops.exec_command(\"aws ec2 describe-vpcs --query 'Vpcs[0].CidrBlock'\", \"/Users/nagagovindar@sphnet.com.sg/Documents/my_projects/devika/data/projects/acronyms2\"))\n"
   ]
  },
  {
   "cell_type": "code",
   "execution_count": 4,
   "metadata": {},
   "outputs": [
    {
     "name": "stdout",
     "output_type": "stream",
     "text": [
      "ERROR: Command failed with exit code 1 \n",
      "\n",
      "╷\n",
      "│ Error: Duplicate provider configuration\n",
      "│ \n",
      "│   on outputs.tf line 1:\n",
      "│    1: provider \"aws\" {\n",
      "│ \n",
      "│ A default (non-aliased) provider configuration for \"aws\" was already given\n",
      "│ at main.tf:1,1-15. If multiple configurations are required, set the \"alias\"\n",
      "│ argument for alternative configurations.\n",
      "╵\n",
      "\n",
      "╷\n",
      "│ Error: Duplicate provider configuration\n",
      "│ \n",
      "│   on outputs.tf line 1:\n",
      "│    1: provider \"aws\" {\n",
      "│ \n",
      "│ A default (non-aliased) provider configuration for \"aws\" was already given\n",
      "│ at main.tf:1,1-15. If multiple configurations are required, set the \"alias\"\n",
      "│ argument for alternative configurations.\n",
      "╵\n",
      "\n"
     ]
    }
   ],
   "source": [
    "import re\n",
    "\n",
    "# Remove ANSI escape codes from the error message\n",
    "cleaned_error = re.sub(r'\\x1B\\[[0-?]*[ -/]*[@-~]', '', file_content)\n",
    "\n",
    "# Format the error message\n",
    "error_message = f\"ERROR: Command failed with exit code 1 \\n{cleaned_error}\"\n",
    "\n",
    "# Assign the formatted error message to command_output\n",
    "command_output = error_message\n",
    "\n",
    "print(command_output)"
   ]
  },
  {
   "cell_type": "code",
   "execution_count": 4,
   "metadata": {},
   "outputs": [
    {
     "name": "stdout",
     "output_type": "stream",
     "text": [
      "main.tf\n"
     ]
    }
   ],
   "source": [
    "line = \"File: main.tf:\"\n",
    "current_file = line.split(\":\")[1].strip()\n",
    "print(current_file)"
   ]
  },
  {
   "cell_type": "code",
   "execution_count": 1,
   "metadata": {},
   "outputs": [
    {
     "name": "stderr",
     "output_type": "stream",
     "text": [
      "/Users/nagagovindar@sphnet.com.sg/Documents/my_projects/devika/.venv/lib/python3.12/site-packages/tqdm/auto.py:21: TqdmWarning: IProgress not found. Please update jupyter and ipywidgets. See https://ipywidgets.readthedocs.io/en/stable/user_install.html\n",
      "  from .autonotebook import tqdm as notebook_tqdm\n"
     ]
    },
    {
     "name": "stdout",
     "output_type": "stream",
     "text": [
      "24.05.13 12:30:57: root: INFO   : Ollama available\n",
      "The capital of France is Paris.\n"
     ]
    }
   ],
   "source": [
    "from src.llm.aws_bedrock import AWSBedrock\n",
    "\n",
    "bedrock = AWSBedrock()\n",
    "prompt = \"What is the capital of France?\"\n",
    "# response = bedrock.inference(\"anthropic.claude-v2:1\", prompt)\n",
    "response = bedrock.inference(\"anthropic.claude-3-sonnet-20240229-v1:0\", prompt)\n",
    "print(response)"
   ]
  }
 ],
 "metadata": {
  "kernelspec": {
   "display_name": ".venv",
   "language": "python",
   "name": "python3"
  },
  "language_info": {
   "codemirror_mode": {
    "name": "ipython",
    "version": 3
   },
   "file_extension": ".py",
   "mimetype": "text/x-python",
   "name": "python",
   "nbconvert_exporter": "python",
   "pygments_lexer": "ipython3",
   "version": "3.12.2"
  }
 },
 "nbformat": 4,
 "nbformat_minor": 2
}
